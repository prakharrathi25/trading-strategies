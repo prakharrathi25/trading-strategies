{
 "cells": [
  {
   "cell_type": "code",
   "execution_count": 56,
   "metadata": {},
   "outputs": [],
   "source": [
    "# Import lib \n",
    "import pandas as pd \n",
    "import numpy as np \n",
    "import matplotlib.pyplot as plt\n",
    "import seaborn as sns"
   ]
  },
  {
   "cell_type": "code",
   "execution_count": 25,
   "metadata": {},
   "outputs": [
    {
     "data": {
      "text/plain": [
       "(18, 9)"
      ]
     },
     "execution_count": 25,
     "metadata": {},
     "output_type": "execute_result"
    }
   ],
   "source": [
    "# Read the data\n",
    "returns = pd.read_excel('f_score_returns.xlsx', index_col=0)\n",
    "returns.shape"
   ]
  },
  {
   "cell_type": "code",
   "execution_count": 26,
   "metadata": {},
   "outputs": [],
   "source": [
    "returns = returns/100"
   ]
  },
  {
   "cell_type": "code",
   "execution_count": 27,
   "metadata": {
    "scrolled": true
   },
   "outputs": [
    {
     "data": {
      "text/html": [
       "<div>\n",
       "<style scoped>\n",
       "    .dataframe tbody tr th:only-of-type {\n",
       "        vertical-align: middle;\n",
       "    }\n",
       "\n",
       "    .dataframe tbody tr th {\n",
       "        vertical-align: top;\n",
       "    }\n",
       "\n",
       "    .dataframe thead th {\n",
       "        text-align: right;\n",
       "    }\n",
       "</style>\n",
       "<table border=\"1\" class=\"dataframe\">\n",
       "  <thead>\n",
       "    <tr style=\"text-align: right;\">\n",
       "      <th></th>\n",
       "      <th>1</th>\n",
       "      <th>2</th>\n",
       "      <th>3</th>\n",
       "      <th>4</th>\n",
       "      <th>5</th>\n",
       "      <th>6</th>\n",
       "      <th>7</th>\n",
       "      <th>8</th>\n",
       "      <th>9</th>\n",
       "    </tr>\n",
       "    <tr>\n",
       "      <th>Year</th>\n",
       "      <th></th>\n",
       "      <th></th>\n",
       "      <th></th>\n",
       "      <th></th>\n",
       "      <th></th>\n",
       "      <th></th>\n",
       "      <th></th>\n",
       "      <th></th>\n",
       "      <th></th>\n",
       "    </tr>\n",
       "  </thead>\n",
       "  <tbody>\n",
       "    <tr>\n",
       "      <th>2002</th>\n",
       "      <td>0.0266</td>\n",
       "      <td>0.05750</td>\n",
       "      <td>0.0377</td>\n",
       "      <td>-0.10590</td>\n",
       "      <td>-0.0457</td>\n",
       "      <td>0.0031</td>\n",
       "      <td>-0.0280</td>\n",
       "      <td>0.07540</td>\n",
       "      <td>0.1473</td>\n",
       "    </tr>\n",
       "    <tr>\n",
       "      <th>2003</th>\n",
       "      <td>-0.0580</td>\n",
       "      <td>0.13490</td>\n",
       "      <td>0.2009</td>\n",
       "      <td>0.28950</td>\n",
       "      <td>0.2682</td>\n",
       "      <td>0.2344</td>\n",
       "      <td>0.3006</td>\n",
       "      <td>0.34190</td>\n",
       "      <td>0.3923</td>\n",
       "    </tr>\n",
       "    <tr>\n",
       "      <th>2004</th>\n",
       "      <td>0.0033</td>\n",
       "      <td>-0.11510</td>\n",
       "      <td>-0.1073</td>\n",
       "      <td>-0.18630</td>\n",
       "      <td>-0.3137</td>\n",
       "      <td>-0.3313</td>\n",
       "      <td>-0.4750</td>\n",
       "      <td>-0.13110</td>\n",
       "      <td>-0.2307</td>\n",
       "    </tr>\n",
       "    <tr>\n",
       "      <th>2005</th>\n",
       "      <td>-0.0884</td>\n",
       "      <td>-0.01200</td>\n",
       "      <td>0.0332</td>\n",
       "      <td>0.04910</td>\n",
       "      <td>0.0603</td>\n",
       "      <td>0.0485</td>\n",
       "      <td>0.1073</td>\n",
       "      <td>0.18880</td>\n",
       "      <td>0.2775</td>\n",
       "    </tr>\n",
       "    <tr>\n",
       "      <th>2006</th>\n",
       "      <td>0.1875</td>\n",
       "      <td>0.18800</td>\n",
       "      <td>0.1366</td>\n",
       "      <td>0.05030</td>\n",
       "      <td>0.1402</td>\n",
       "      <td>0.2246</td>\n",
       "      <td>0.2007</td>\n",
       "      <td>0.21420</td>\n",
       "      <td>0.2547</td>\n",
       "    </tr>\n",
       "    <tr>\n",
       "      <th>2007</th>\n",
       "      <td>0.0666</td>\n",
       "      <td>0.18580</td>\n",
       "      <td>0.1538</td>\n",
       "      <td>0.19980</td>\n",
       "      <td>0.2966</td>\n",
       "      <td>0.1153</td>\n",
       "      <td>0.1242</td>\n",
       "      <td>0.07950</td>\n",
       "      <td>0.1167</td>\n",
       "    </tr>\n",
       "    <tr>\n",
       "      <th>2008</th>\n",
       "      <td>0.0395</td>\n",
       "      <td>0.02920</td>\n",
       "      <td>0.0349</td>\n",
       "      <td>0.03070</td>\n",
       "      <td>0.0439</td>\n",
       "      <td>0.0410</td>\n",
       "      <td>0.0427</td>\n",
       "      <td>0.02990</td>\n",
       "      <td>0.1021</td>\n",
       "    </tr>\n",
       "    <tr>\n",
       "      <th>2009</th>\n",
       "      <td>0.0235</td>\n",
       "      <td>0.01520</td>\n",
       "      <td>0.0623</td>\n",
       "      <td>0.13240</td>\n",
       "      <td>0.0719</td>\n",
       "      <td>0.0682</td>\n",
       "      <td>0.0585</td>\n",
       "      <td>0.00950</td>\n",
       "      <td>-0.0510</td>\n",
       "    </tr>\n",
       "    <tr>\n",
       "      <th>2010</th>\n",
       "      <td>0.0086</td>\n",
       "      <td>0.02820</td>\n",
       "      <td>0.0467</td>\n",
       "      <td>0.08640</td>\n",
       "      <td>0.0731</td>\n",
       "      <td>0.0744</td>\n",
       "      <td>0.0759</td>\n",
       "      <td>0.14370</td>\n",
       "      <td>0.1615</td>\n",
       "    </tr>\n",
       "    <tr>\n",
       "      <th>2011</th>\n",
       "      <td>0.0167</td>\n",
       "      <td>-0.01810</td>\n",
       "      <td>-0.0138</td>\n",
       "      <td>-0.03790</td>\n",
       "      <td>0.0180</td>\n",
       "      <td>0.0345</td>\n",
       "      <td>0.0635</td>\n",
       "      <td>0.02940</td>\n",
       "      <td>0.0666</td>\n",
       "    </tr>\n",
       "    <tr>\n",
       "      <th>2012</th>\n",
       "      <td>0.0355</td>\n",
       "      <td>0.01810</td>\n",
       "      <td>0.0942</td>\n",
       "      <td>0.10960</td>\n",
       "      <td>0.1095</td>\n",
       "      <td>0.1366</td>\n",
       "      <td>0.1279</td>\n",
       "      <td>0.17490</td>\n",
       "      <td>0.1312</td>\n",
       "    </tr>\n",
       "    <tr>\n",
       "      <th>2013</th>\n",
       "      <td>0.0528</td>\n",
       "      <td>0.00009</td>\n",
       "      <td>0.0286</td>\n",
       "      <td>0.00319</td>\n",
       "      <td>-0.0138</td>\n",
       "      <td>0.0395</td>\n",
       "      <td>0.0644</td>\n",
       "      <td>0.11470</td>\n",
       "      <td>0.1322</td>\n",
       "    </tr>\n",
       "    <tr>\n",
       "      <th>2014</th>\n",
       "      <td>0.0714</td>\n",
       "      <td>0.13030</td>\n",
       "      <td>0.1183</td>\n",
       "      <td>0.13760</td>\n",
       "      <td>0.0911</td>\n",
       "      <td>0.1484</td>\n",
       "      <td>0.1748</td>\n",
       "      <td>0.18680</td>\n",
       "      <td>0.1493</td>\n",
       "    </tr>\n",
       "    <tr>\n",
       "      <th>2015</th>\n",
       "      <td>0.0147</td>\n",
       "      <td>-0.00720</td>\n",
       "      <td>0.0164</td>\n",
       "      <td>0.13860</td>\n",
       "      <td>0.1961</td>\n",
       "      <td>0.1962</td>\n",
       "      <td>0.0445</td>\n",
       "      <td>0.04830</td>\n",
       "      <td>0.1559</td>\n",
       "    </tr>\n",
       "    <tr>\n",
       "      <th>2016</th>\n",
       "      <td>0.0005</td>\n",
       "      <td>0.04560</td>\n",
       "      <td>0.1423</td>\n",
       "      <td>0.05130</td>\n",
       "      <td>0.0697</td>\n",
       "      <td>0.1006</td>\n",
       "      <td>0.1222</td>\n",
       "      <td>0.16510</td>\n",
       "      <td>0.2138</td>\n",
       "    </tr>\n",
       "    <tr>\n",
       "      <th>2017</th>\n",
       "      <td>0.0518</td>\n",
       "      <td>0.10110</td>\n",
       "      <td>0.1771</td>\n",
       "      <td>0.19610</td>\n",
       "      <td>0.2472</td>\n",
       "      <td>0.2389</td>\n",
       "      <td>0.2142</td>\n",
       "      <td>0.15540</td>\n",
       "      <td>0.1892</td>\n",
       "    </tr>\n",
       "    <tr>\n",
       "      <th>2018</th>\n",
       "      <td>0.0874</td>\n",
       "      <td>-0.00980</td>\n",
       "      <td>-0.0447</td>\n",
       "      <td>-0.10760</td>\n",
       "      <td>-0.0316</td>\n",
       "      <td>-0.0608</td>\n",
       "      <td>-0.0413</td>\n",
       "      <td>0.02690</td>\n",
       "      <td>0.0422</td>\n",
       "    </tr>\n",
       "    <tr>\n",
       "      <th>2019</th>\n",
       "      <td>0.0216</td>\n",
       "      <td>-0.00870</td>\n",
       "      <td>0.0131</td>\n",
       "      <td>-0.01540</td>\n",
       "      <td>0.0125</td>\n",
       "      <td>0.0987</td>\n",
       "      <td>0.1222</td>\n",
       "      <td>0.10083</td>\n",
       "      <td>NaN</td>\n",
       "    </tr>\n",
       "  </tbody>\n",
       "</table>\n",
       "</div>"
      ],
      "text/plain": [
       "           1        2       3        4       5       6       7        8  \\\n",
       "Year                                                                      \n",
       "2002  0.0266  0.05750  0.0377 -0.10590 -0.0457  0.0031 -0.0280  0.07540   \n",
       "2003 -0.0580  0.13490  0.2009  0.28950  0.2682  0.2344  0.3006  0.34190   \n",
       "2004  0.0033 -0.11510 -0.1073 -0.18630 -0.3137 -0.3313 -0.4750 -0.13110   \n",
       "2005 -0.0884 -0.01200  0.0332  0.04910  0.0603  0.0485  0.1073  0.18880   \n",
       "2006  0.1875  0.18800  0.1366  0.05030  0.1402  0.2246  0.2007  0.21420   \n",
       "2007  0.0666  0.18580  0.1538  0.19980  0.2966  0.1153  0.1242  0.07950   \n",
       "2008  0.0395  0.02920  0.0349  0.03070  0.0439  0.0410  0.0427  0.02990   \n",
       "2009  0.0235  0.01520  0.0623  0.13240  0.0719  0.0682  0.0585  0.00950   \n",
       "2010  0.0086  0.02820  0.0467  0.08640  0.0731  0.0744  0.0759  0.14370   \n",
       "2011  0.0167 -0.01810 -0.0138 -0.03790  0.0180  0.0345  0.0635  0.02940   \n",
       "2012  0.0355  0.01810  0.0942  0.10960  0.1095  0.1366  0.1279  0.17490   \n",
       "2013  0.0528  0.00009  0.0286  0.00319 -0.0138  0.0395  0.0644  0.11470   \n",
       "2014  0.0714  0.13030  0.1183  0.13760  0.0911  0.1484  0.1748  0.18680   \n",
       "2015  0.0147 -0.00720  0.0164  0.13860  0.1961  0.1962  0.0445  0.04830   \n",
       "2016  0.0005  0.04560  0.1423  0.05130  0.0697  0.1006  0.1222  0.16510   \n",
       "2017  0.0518  0.10110  0.1771  0.19610  0.2472  0.2389  0.2142  0.15540   \n",
       "2018  0.0874 -0.00980 -0.0447 -0.10760 -0.0316 -0.0608 -0.0413  0.02690   \n",
       "2019  0.0216 -0.00870  0.0131 -0.01540  0.0125  0.0987  0.1222  0.10083   \n",
       "\n",
       "           9  \n",
       "Year          \n",
       "2002  0.1473  \n",
       "2003  0.3923  \n",
       "2004 -0.2307  \n",
       "2005  0.2775  \n",
       "2006  0.2547  \n",
       "2007  0.1167  \n",
       "2008  0.1021  \n",
       "2009 -0.0510  \n",
       "2010  0.1615  \n",
       "2011  0.0666  \n",
       "2012  0.1312  \n",
       "2013  0.1322  \n",
       "2014  0.1493  \n",
       "2015  0.1559  \n",
       "2016  0.2138  \n",
       "2017  0.1892  \n",
       "2018  0.0422  \n",
       "2019     NaN  "
      ]
     },
     "execution_count": 27,
     "metadata": {},
     "output_type": "execute_result"
    }
   ],
   "source": [
    "returns.index = pd.to_datetime(returns.index, format=\"%Y\").to_period('Y')\n",
    "returns"
   ]
  },
  {
   "cell_type": "code",
   "execution_count": 34,
   "metadata": {},
   "outputs": [
    {
     "data": {
      "text/plain": [
       "<matplotlib.axes._subplots.AxesSubplot at 0x20d355567b8>"
      ]
     },
     "execution_count": 34,
     "metadata": {},
     "output_type": "execute_result"
    },
    {
     "data": {
      "image/png": "[encoded data removed]",
      "text/plain": [
       "<Figure size 432x288 with 1 Axes>"
      ]
     },
     "metadata": {
      "needs_background": "light"
     },
     "output_type": "display_data"
    }
   ],
   "source": [
    "# Maximum drawdown\n",
    "wealth_index = 1000 * (1+returns).cumprod()\n",
    "previous_peaks = wealth_index.cummax()\n",
    "drawdown = (wealth_index - previous_peaks)/previous_peaks\n",
    "# Plot the drawdown \n",
    "drawdown.plot.line()"
   ]
  },
  {
   "cell_type": "code",
   "execution_count": 41,
   "metadata": {},
   "outputs": [
    {
     "data": {
      "text/plain": [
       "7    0.155587\n",
       "5    0.135310\n",
       "9    0.131603\n",
       "6    0.127944\n",
       "4    0.117158\n",
       "8    0.100343\n",
       "3    0.078509\n",
       "2    0.076175\n",
       "1    0.056067\n",
       "dtype: float64"
      ]
     },
     "execution_count": 41,
     "metadata": {},
     "output_type": "execute_result"
    }
   ],
   "source": [
    "# Deviation \n",
    "returns.std(ddof=0).sort_values(ascending=False)"
   ]
  },
  {
   "cell_type": "code",
   "execution_count": 113,
   "metadata": {},
   "outputs": [
    {
     "data": {
      "text/plain": [
       "7    0.207654\n",
       "6    0.135250\n",
       "5    0.123207\n",
       "9    0.089850\n",
       "4    0.060190\n",
       "3    0.038896\n",
       "2    0.038892\n",
       "1    0.015200\n",
       "8    0.000000\n",
       "dtype: float64"
      ]
     },
     "execution_count": 113,
     "metadata": {},
     "output_type": "execute_result"
    }
   ],
   "source": [
    "# Semideviation \n",
    "returns[returns<0].std(ddof=0).sort_values(ascending=False)\n"
   ]
  },
  {
   "cell_type": "code",
   "execution_count": 83,
   "metadata": {},
   "outputs": [
    {
     "data": {
      "text/plain": [
       "<matplotlib.axes._subplots.AxesSubplot at 0x20d3ed8fba8>"
      ]
     },
     "execution_count": 83,
     "metadata": {},
     "output_type": "execute_result"
    },
    {
     "data": {
      "image/png": "[encoded data removed]",
      "text/plain": [
       "<Figure size 432x288 with 1 Axes>"
      ]
     },
     "metadata": {
      "needs_background": "light"
     },
     "output_type": "display_data"
    }
   ],
   "source": [
    "(returns*100).mean().plot.bar()"
   ]
  },
  {
   "cell_type": "code",
   "execution_count": 120,
   "metadata": {
    "scrolled": false
   },
   "outputs": [
    {
     "data": {
      "image/png": "[encoded data removed]",
      "text/plain": [
       "<Figure size 720x504 with 1 Axes>"
      ]
     },
     "metadata": {
      "needs_background": "light"
     },
     "output_type": "display_data"
    }
   ],
   "source": [
    "ax = var_historic(returns.fillna(0)).plot(kind='bar', figsize=(10,7),\n",
    "                                        color=\"coral\", fontsize=10);\n",
    "ax.set_alpha(0.8)\n",
    "ax.set_title(\"Value at Risk vs Holding Period\", fontsize=18)\n",
    "ax.set_ylabel(\"Value at Risk(in percent)\", fontsize=18);\n",
    "ax.set_xlabel(\"Holding Period (in months)\", fontsize=18);\n",
    "ax.set_xticklabels(returns.columns, rotation=0)\n",
    "\n",
    "# create a list to collect the plt.patches data\n",
    "totals = []\n",
    "\n",
    "# find the values and append to list\n",
    "for i in ax.patches:\n",
    "    totals.append(i.get_height())\n",
    "\n",
    "# set individual bar lables using above list\n",
    "total = sum(totals)\n",
    "\n",
    "# set individual bar lables using above list\n",
    "for i in ax.patches:\n",
    "    # get_x pulls left or right; get_height pushes up or down\n",
    "    ax.text(i.get_x()-.03, i.get_height()+.002, \\\n",
    "            str(round((i.get_height()/total)*100, 2))+'%', fontsize=12,\n",
    "                color='dimgrey')"
   ]
  },
  {
   "cell_type": "code",
   "execution_count": 117,
   "metadata": {},
   "outputs": [],
   "source": [
    "def var_historic(r, level=5):\n",
    "    '''\n",
    "    ARG\n",
    "        r: Dataframe with the returns\n",
    "        level: percentile level\n",
    "    Returns \n",
    "        percentile for each column\n",
    "    '''\n",
    "    \n",
    "    # Check the type of data\n",
    "    if isinstance(r, pd.DataFrame):\n",
    "        return r.aggregate(var_historic, level=level)\n",
    "    \n",
    "    elif isinstance(r, pd.Series):\n",
    "        return -np.percentile(r, level)\n",
    "    else: \n",
    "        raise TypeError(\"Expected r to be a series or dataframe\")"
   ]
  },
  {
   "cell_type": "code",
   "execution_count": 126,
   "metadata": {},
   "outputs": [],
   "source": [
    "var_his = var_historic(returns.fillna(0))"
   ]
  },
  {
   "cell_type": "code",
   "execution_count": 138,
   "metadata": {},
   "outputs": [],
   "source": [
    "from scipy.stats import norm\n",
    "\n",
    "# Compute the z score assuming the data is gaussian \n",
    "# Percent point function\n",
    "z = norm.ppf(0.05)"
   ]
  },
  {
   "cell_type": "code",
   "execution_count": 125,
   "metadata": {},
   "outputs": [],
   "source": [
    "var_gauss = -(returns.mean() + z*returns.std(ddof=0))"
   ]
  },
  {
   "cell_type": "code",
   "execution_count": 143,
   "metadata": {},
   "outputs": [],
   "source": [
    "# Make a skewness function \n",
    "def skewness(r):\n",
    "    '''\n",
    "        ARGS:\n",
    "            Series or Dataframe\n",
    "        RETURNS: \n",
    "            Float or a series data with the calculated skewness\n",
    "    '''\n",
    "    \n",
    "    # Calculate the demeaned returns \n",
    "    demeaned_r = r - r.mean()\n",
    "    \n",
    "    # Use the population standard deviation, ddof=0\n",
    "    sigma_r = r.std(ddof=0)\n",
    "    \n",
    "    # Calculate the expectation of the demeaned returns raised to the third power\n",
    "    exp = (demeaned_r**3).mean()\n",
    "    \n",
    "    # Calcualte the skew\n",
    "    skew = exp/sigma_r**3\n",
    "    return skew\n",
    "\n",
    "# Make a kurtosis function \n",
    "def kurtosis(r):\n",
    "    '''\n",
    "        ARGS:\n",
    "            Series or Dataframe\n",
    "        RETURNS: \n",
    "            Float or a series data with the calculated kurtosis\n",
    "    '''\n",
    "    \n",
    "    # Calculate the demeaned returns \n",
    "    demeaned_r = r - r.mean()\n",
    "    \n",
    "    # Use the population standard deviation, ddof=0\n",
    "    sigma_r = r.std(ddof=0)\n",
    "    \n",
    "    # Calculate the expectation of the demeaned returns raised to the fourth power\n",
    "    exp = (demeaned_r**4).mean()\n",
    "    \n",
    "    # Calcualte the skew\n",
    "    kurt = exp/sigma_r**4\n",
    "    return kurt"
   ]
  },
  {
   "cell_type": "code",
   "execution_count": 144,
   "metadata": {},
   "outputs": [
    {
     "data": {
      "text/html": [
       "<div>\n",
       "<style scoped>\n",
       "    .dataframe tbody tr th:only-of-type {\n",
       "        vertical-align: middle;\n",
       "    }\n",
       "\n",
       "    .dataframe tbody tr th {\n",
       "        vertical-align: top;\n",
       "    }\n",
       "\n",
       "    .dataframe thead th {\n",
       "        text-align: right;\n",
       "    }\n",
       "</style>\n",
       "<table border=\"1\" class=\"dataframe\">\n",
       "  <thead>\n",
       "    <tr style=\"text-align: right;\">\n",
       "      <th></th>\n",
       "      <th>Skewness</th>\n",
       "      <th>Kurtosis</th>\n",
       "      <th>Excess Kurtosis</th>\n",
       "    </tr>\n",
       "  </thead>\n",
       "  <tbody>\n",
       "    <tr>\n",
       "      <th>1</th>\n",
       "      <td>0.514737</td>\n",
       "      <td>4.954032</td>\n",
       "      <td>1.954032</td>\n",
       "    </tr>\n",
       "    <tr>\n",
       "      <th>2</th>\n",
       "      <td>0.365898</td>\n",
       "      <td>2.770523</td>\n",
       "      <td>-0.229477</td>\n",
       "    </tr>\n",
       "    <tr>\n",
       "      <th>3</th>\n",
       "      <td>-0.109635</td>\n",
       "      <td>2.489155</td>\n",
       "      <td>-0.510845</td>\n",
       "    </tr>\n",
       "    <tr>\n",
       "      <th>4</th>\n",
       "      <td>-0.157877</td>\n",
       "      <td>2.622837</td>\n",
       "      <td>-0.377163</td>\n",
       "    </tr>\n",
       "    <tr>\n",
       "      <th>5</th>\n",
       "      <td>-0.772742</td>\n",
       "      <td>4.594804</td>\n",
       "      <td>1.594804</td>\n",
       "    </tr>\n",
       "    <tr>\n",
       "      <th>6</th>\n",
       "      <td>-1.559644</td>\n",
       "      <td>6.329343</td>\n",
       "      <td>3.329343</td>\n",
       "    </tr>\n",
       "    <tr>\n",
       "      <th>7</th>\n",
       "      <td>-2.179482</td>\n",
       "      <td>8.860237</td>\n",
       "      <td>5.860237</td>\n",
       "    </tr>\n",
       "    <tr>\n",
       "      <th>8</th>\n",
       "      <td>-0.057631</td>\n",
       "      <td>3.691450</td>\n",
       "      <td>0.691450</td>\n",
       "    </tr>\n",
       "    <tr>\n",
       "      <th>9</th>\n",
       "      <td>-0.822833</td>\n",
       "      <td>4.683939</td>\n",
       "      <td>1.683939</td>\n",
       "    </tr>\n",
       "  </tbody>\n",
       "</table>\n",
       "</div>"
      ],
      "text/plain": [
       "   Skewness  Kurtosis  Excess Kurtosis\n",
       "1  0.514737  4.954032         1.954032\n",
       "2  0.365898  2.770523        -0.229477\n",
       "3 -0.109635  2.489155        -0.510845\n",
       "4 -0.157877  2.622837        -0.377163\n",
       "5 -0.772742  4.594804         1.594804\n",
       "6 -1.559644  6.329343         3.329343\n",
       "7 -2.179482  8.860237         5.860237\n",
       "8 -0.057631  3.691450         0.691450\n",
       "9 -0.822833  4.683939         1.683939"
      ]
     },
     "execution_count": 144,
     "metadata": {},
     "output_type": "execute_result"
    }
   ],
   "source": [
    "k = kurtosis(returns)\n",
    "s = skewness(returns)\n",
    "stats = pd.concat([s, k], axis=1)\n",
    "stats.columns = [\"Skewness\", \"Kurtosis\"]\n",
    "stats['Excess Kurtosis'] = stats['Kurtosis'] - 3\n",
    "stats"
   ]
  },
  {
   "cell_type": "code",
   "execution_count": 129,
   "metadata": {},
   "outputs": [
    {
     "data": {
      "text/plain": [
       "1    0.050328\n",
       "2    0.075141\n",
       "3    0.069579\n",
       "4    0.142052\n",
       "5    0.174554\n",
       "6    0.174353\n",
       "7    0.247845\n",
       "8    0.056725\n",
       "9    0.108702\n",
       "dtype: float64"
      ]
     },
     "execution_count": 129,
     "metadata": {},
     "output_type": "execute_result"
    }
   ],
   "source": [
    "# Calculate kurtosis and skew\n",
    "k = kurtosis(returns)\n",
    "s = skewness(returns)\n",
    "z = norm.ppf(0.05)\n",
    "# Update z\n",
    "z = (z + (z**2 - 1)*s/6 + (z**3 - 3*z)*(k-3)/24 - (2 * z**3 - 5*z)*(s**2)/36)\n",
    "# Calculate the VaR with modified z\n",
    "mcf_var = -(returns.mean() + z*returns.std(ddof=0))\n",
    "mcf_var"
   ]
  },
  {
   "cell_type": "code",
   "execution_count": 135,
   "metadata": {},
   "outputs": [
    {
     "data": {
      "text/html": [
       "<div>\n",
       "<style scoped>\n",
       "    .dataframe tbody tr th:only-of-type {\n",
       "        vertical-align: middle;\n",
       "    }\n",
       "\n",
       "    .dataframe tbody tr th {\n",
       "        vertical-align: top;\n",
       "    }\n",
       "\n",
       "    .dataframe thead th {\n",
       "        text-align: right;\n",
       "    }\n",
       "</style>\n",
       "<table border=\"1\" class=\"dataframe\">\n",
       "  <thead>\n",
       "    <tr style=\"text-align: right;\">\n",
       "      <th></th>\n",
       "      <th>Gaussian</th>\n",
       "      <th>Cornish-Fisher</th>\n",
       "      <th>Historic</th>\n",
       "    </tr>\n",
       "  </thead>\n",
       "  <tbody>\n",
       "    <tr>\n",
       "      <th>1</th>\n",
       "      <td>6.102205</td>\n",
       "      <td>5.032849</td>\n",
       "      <td>6.2560</td>\n",
       "    </tr>\n",
       "    <tr>\n",
       "      <th>2</th>\n",
       "      <td>8.290319</td>\n",
       "      <td>7.514148</td>\n",
       "      <td>3.2650</td>\n",
       "    </tr>\n",
       "    <tr>\n",
       "      <th>3</th>\n",
       "      <td>6.634056</td>\n",
       "      <td>6.957887</td>\n",
       "      <td>5.4090</td>\n",
       "    </tr>\n",
       "    <tr>\n",
       "      <th>4</th>\n",
       "      <td>13.595763</td>\n",
       "      <td>14.205230</td>\n",
       "      <td>11.9405</td>\n",
       "    </tr>\n",
       "    <tr>\n",
       "      <th>5</th>\n",
       "      <td>15.070427</td>\n",
       "      <td>17.455369</td>\n",
       "      <td>8.5900</td>\n",
       "    </tr>\n",
       "    <tr>\n",
       "      <th>6</th>\n",
       "      <td>13.207185</td>\n",
       "      <td>17.435266</td>\n",
       "      <td>10.1375</td>\n",
       "    </tr>\n",
       "    <tr>\n",
       "      <th>7</th>\n",
       "      <td>18.373509</td>\n",
       "      <td>24.784470</td>\n",
       "      <td>10.6355</td>\n",
       "    </tr>\n",
       "    <tr>\n",
       "      <th>8</th>\n",
       "      <td>5.648751</td>\n",
       "      <td>5.672490</td>\n",
       "      <td>1.1590</td>\n",
       "    </tr>\n",
       "    <tr>\n",
       "      <th>9</th>\n",
       "      <td>8.406699</td>\n",
       "      <td>10.870248</td>\n",
       "      <td>7.7955</td>\n",
       "    </tr>\n",
       "  </tbody>\n",
       "</table>\n",
       "</div>"
      ],
      "text/plain": [
       "    Gaussian  Cornish-Fisher  Historic\n",
       "1   6.102205        5.032849    6.2560\n",
       "2   8.290319        7.514148    3.2650\n",
       "3   6.634056        6.957887    5.4090\n",
       "4  13.595763       14.205230   11.9405\n",
       "5  15.070427       17.455369    8.5900\n",
       "6  13.207185       17.435266   10.1375\n",
       "7  18.373509       24.784470   10.6355\n",
       "8   5.648751        5.672490    1.1590\n",
       "9   8.406699       10.870248    7.7955"
      ]
     },
     "execution_count": 135,
     "metadata": {},
     "output_type": "execute_result"
    }
   ],
   "source": [
    "# Compare all three by making a bar plot \n",
    "results = [var_gauss*100, mcf_var*100, var_historic(returns.fillna(0), level=5)*100]\n",
    "comparison=pd.concat(results, axis=1)\n",
    "comparison.columns = [\"Gaussian\", \"Cornish-Fisher\", \"Historic\"]\n",
    "comparison"
   ]
  },
  {
   "cell_type": "code",
   "execution_count": 145,
   "metadata": {},
   "outputs": [
    {
     "data": {
      "text/plain": [
       "[Text(0, 0, '1'),\n",
       " Text(0, 0, '2'),\n",
       " Text(0, 0, '3'),\n",
       " Text(0, 0, '4'),\n",
       " Text(0, 0, '5'),\n",
       " Text(0, 0, '6'),\n",
       " Text(0, 0, '7'),\n",
       " Text(0, 0, '8'),\n",
       " Text(0, 0, '9')]"
      ]
     },
     "execution_count": 145,
     "metadata": {},
     "output_type": "execute_result"
    },
    {
     "data": {
      "image/png": "[encoded data removed]",
      "text/plain": [
       "<Figure size 432x288 with 1 Axes>"
      ]
     },
     "metadata": {
      "needs_background": "light"
     },
     "output_type": "display_data"
    }
   ],
   "source": [
    "# Plot the comparison DataFrame\n",
    "ax = comparison.plot.bar(title=\"F-Score Returns: VaR\")\n",
    "ax.set_xlabel(\"Holding Periods\")\n",
    "ax.set_ylabel(\"Value at Risk\")\n",
    "ax.set_xticklabels(returns.columns, rotation=0)"
   ]
  },
  {
   "cell_type": "code",
   "execution_count": 146,
   "metadata": {},
   "outputs": [],
   "source": [
    "rfr = [7.308, 5.616, 5.117, 6.994, 8.238, 7.845, 9.316, 6.998, 7.803, 8.454, 8.245, 8.172, 8.718, 7.806, 7.163, 6.456, 7.772, 6.369]"
   ]
  },
  {
   "cell_type": "code",
   "execution_count": 182,
   "metadata": {},
   "outputs": [
    {
     "data": {
      "text/html": [
       "<div>\n",
       "<style scoped>\n",
       "    .dataframe tbody tr th:only-of-type {\n",
       "        vertical-align: middle;\n",
       "    }\n",
       "\n",
       "    .dataframe tbody tr th {\n",
       "        vertical-align: top;\n",
       "    }\n",
       "\n",
       "    .dataframe thead th {\n",
       "        text-align: right;\n",
       "    }\n",
       "</style>\n",
       "<table border=\"1\" class=\"dataframe\">\n",
       "  <thead>\n",
       "    <tr style=\"text-align: right;\">\n",
       "      <th></th>\n",
       "      <th>risk_free_rate</th>\n",
       "    </tr>\n",
       "    <tr>\n",
       "      <th>year</th>\n",
       "      <th></th>\n",
       "    </tr>\n",
       "  </thead>\n",
       "  <tbody>\n",
       "    <tr>\n",
       "      <th>2002</th>\n",
       "      <td>0.07308</td>\n",
       "    </tr>\n",
       "    <tr>\n",
       "      <th>2003</th>\n",
       "      <td>0.05616</td>\n",
       "    </tr>\n",
       "    <tr>\n",
       "      <th>2004</th>\n",
       "      <td>0.05117</td>\n",
       "    </tr>\n",
       "    <tr>\n",
       "      <th>2005</th>\n",
       "      <td>0.06994</td>\n",
       "    </tr>\n",
       "    <tr>\n",
       "      <th>2006</th>\n",
       "      <td>0.08238</td>\n",
       "    </tr>\n",
       "    <tr>\n",
       "      <th>2007</th>\n",
       "      <td>0.07845</td>\n",
       "    </tr>\n",
       "    <tr>\n",
       "      <th>2008</th>\n",
       "      <td>0.09316</td>\n",
       "    </tr>\n",
       "    <tr>\n",
       "      <th>2009</th>\n",
       "      <td>0.06998</td>\n",
       "    </tr>\n",
       "    <tr>\n",
       "      <th>2010</th>\n",
       "      <td>0.07803</td>\n",
       "    </tr>\n",
       "    <tr>\n",
       "      <th>2011</th>\n",
       "      <td>0.08454</td>\n",
       "    </tr>\n",
       "    <tr>\n",
       "      <th>2012</th>\n",
       "      <td>0.08245</td>\n",
       "    </tr>\n",
       "    <tr>\n",
       "      <th>2013</th>\n",
       "      <td>0.08172</td>\n",
       "    </tr>\n",
       "    <tr>\n",
       "      <th>2014</th>\n",
       "      <td>0.08718</td>\n",
       "    </tr>\n",
       "    <tr>\n",
       "      <th>2015</th>\n",
       "      <td>0.07806</td>\n",
       "    </tr>\n",
       "    <tr>\n",
       "      <th>2016</th>\n",
       "      <td>0.07163</td>\n",
       "    </tr>\n",
       "    <tr>\n",
       "      <th>2017</th>\n",
       "      <td>0.06456</td>\n",
       "    </tr>\n",
       "    <tr>\n",
       "      <th>2018</th>\n",
       "      <td>0.07772</td>\n",
       "    </tr>\n",
       "    <tr>\n",
       "      <th>2019</th>\n",
       "      <td>0.06369</td>\n",
       "    </tr>\n",
       "  </tbody>\n",
       "</table>\n",
       "</div>"
      ],
      "text/plain": [
       "      risk_free_rate\n",
       "year                \n",
       "2002         0.07308\n",
       "2003         0.05616\n",
       "2004         0.05117\n",
       "2005         0.06994\n",
       "2006         0.08238\n",
       "2007         0.07845\n",
       "2008         0.09316\n",
       "2009         0.06998\n",
       "2010         0.07803\n",
       "2011         0.08454\n",
       "2012         0.08245\n",
       "2013         0.08172\n",
       "2014         0.08718\n",
       "2015         0.07806\n",
       "2016         0.07163\n",
       "2017         0.06456\n",
       "2018         0.07772\n",
       "2019         0.06369"
      ]
     },
     "execution_count": 182,
     "metadata": {},
     "output_type": "execute_result"
    }
   ],
   "source": [
    "# Create rfr dataframe\n",
    "rf = pd.DataFrame({'year': returns.index, 'risk_free_rate': rfr}).set_index('year')\n",
    "rf = rf/100\n",
    "rf"
   ]
  },
  {
   "cell_type": "code",
   "execution_count": 184,
   "metadata": {},
   "outputs": [],
   "source": [
    "def rf_sub(ser):\n",
    "    return(ser - rf['risk_free_rate'])"
   ]
  },
  {
   "cell_type": "code",
   "execution_count": 187,
   "metadata": {},
   "outputs": [],
   "source": [
    "sharpe_ratios = ((returns).aggregate(rf_sub).mean()/returns.std(ddof=0))*100"
   ]
  },
  {
   "cell_type": "code",
   "execution_count": 189,
   "metadata": {},
   "outputs": [
    {
     "data": {
      "text/plain": [
       "<matplotlib.axes._subplots.AxesSubplot at 0x20d3db1ba58>"
      ]
     },
     "execution_count": 189,
     "metadata": {},
     "output_type": "execute_result"
    },
    {
     "data": {
      "image/png": "[encoded data removed]",
      "text/plain": [
       "<Figure size 432x288 with 1 Axes>"
      ]
     },
     "metadata": {
      "needs_background": "light"
     },
     "output_type": "display_data"
    }
   ],
   "source": [
    "sharpe_ratios.plot.bar()"
   ]
  },
  {
   "cell_type": "code",
   "execution_count": 195,
   "metadata": {},
   "outputs": [
    {
     "data": {
      "image/png": "[encoded data removed]",
      "text/plain": [
       "<Figure size 720x504 with 1 Axes>"
      ]
     },
     "metadata": {
      "needs_background": "light"
     },
     "output_type": "display_data"
    }
   ],
   "source": [
    "ax = sharpe_ratios.plot(kind='bar', figsize=(10,7),\n",
    "                                        color=\"coral\", fontsize=10);\n",
    "ax.set_alpha(0.8)\n",
    "ax.set_title(\"Value at Risk vs Holding Period\", fontsize=18)\n",
    "ax.set_ylabel(\"Value at Risk(in percent)\", fontsize=18);\n",
    "ax.set_xlabel(\"Holding Period (in months)\", fontsize=18);\n",
    "ax.set_xticklabels(returns.columns, rotation=0)\n",
    "\n",
    "# create a list to collect the plt.patches data\n",
    "totals = []\n",
    "\n",
    "# find the values and append to list\n",
    "for i in ax.patches:\n",
    "    totals.append(i.get_height())\n",
    "\n",
    "# set individual bar lables using above list\n",
    "total = sum(totals)\n",
    "\n",
    "# set individual bar lables using above list\n",
    "for i in ax.patches:\n",
    "    # get_x pulls left or right; get_height pushes up or down\n",
    "    if i.get_height() > 0: \n",
    "        h = i.get_height()-.005\n",
    "    else:\n",
    "        h = i.get_height()+.005\n",
    "    ax.text(i.get_x()-.03, h, \\\n",
    "            str(round((i.get_height()/total)*100, 2))+'%', fontsize=12,\n",
    "                color='dimgrey')"
   ]
  },
  {
   "cell_type": "code",
   "execution_count": 199,
   "metadata": {},
   "outputs": [
    {
     "data": {
      "image/png": "[encoded data removed]",
      "text/plain": [
       "<Figure size 720x504 with 1 Axes>"
      ]
     },
     "metadata": {
      "needs_background": "light"
     },
     "output_type": "display_data"
    }
   ],
   "source": [
    "ax = sharpe_ratios.plot(kind='bar', figsize=(10,7),\n",
    "                                        color=\"coral\", fontsize=10);\n",
    "ax.set_alpha(0.8)\n",
    "ax.set_title(\"Value at Risk vs Holding Period\", fontsize=18)\n",
    "ax.set_ylabel(\"Value at Risk(in percent)\", fontsize=18);\n",
    "ax.set_xlabel(\"Holding Period (in months)\", fontsize=18);\n",
    "ax.set_xticklabels(returns.columns, rotation=0)\n",
    "\n",
    "# create a list to collect the plt.patches data\n",
    "totals = []\n",
    "\n",
    "# find the values and append to list\n",
    "for i in ax.patches:\n",
    "    totals.append(i.get_height())\n",
    "\n",
    "# set individual bar lables using above list\n",
    "total = sum(totals)\n",
    "\n",
    "# set individual bar lables using above list\n",
    "for i in ax.patches:\n",
    "    # get_x pulls left or right; get_height pushes up or down\n",
    "    ax.text(i.get_x()-.03, i.get_height()+.002, \\\n",
    "            str(round((i.get_height()/total)*100, 2))+'%', fontsize=12,\n",
    "                color='dimgrey')"
   ]
  },
  {
   "cell_type": "code",
   "execution_count": null,
   "metadata": {},
   "outputs": [],
   "source": []
  }
 ],
 "metadata": {
  "kernelspec": {
   "display_name": "Python 3",
   "language": "python",
   "name": "python3"
  },
  "language_info": {
   "codemirror_mode": {
    "name": "ipython",
    "version": 3
   },
   "file_extension": ".py",
   "mimetype": "text/x-python",
   "name": "python",
   "nbconvert_exporter": "python",
   "pygments_lexer": "ipython3",
   "version": "3.6.4"
  },
  "toc": {
   "base_numbering": 1,
   "nav_menu": {},
   "number_sections": true,
   "sideBar": true,
   "skip_h1_title": false,
   "title_cell": "Table of Contents",
   "title_sidebar": "Contents",
   "toc_cell": false,
   "toc_position": {},
   "toc_section_display": true,
   "toc_window_display": false
  }
 },
 "nbformat": 4,
 "nbformat_minor": 2
}
